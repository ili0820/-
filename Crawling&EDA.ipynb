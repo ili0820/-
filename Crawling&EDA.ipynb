{
 "cells": [
  {
   "cell_type": "code",
   "execution_count": 52,
   "metadata": {},
   "outputs": [],
   "source": [
    "import selenium\n",
    "from selenium import webdriver\n",
    "from selenium.webdriver.chrome.options import Options\n",
    "import time\n",
    "import warnings\n",
    "import re\n",
    "import matplotlib.pyplot as plt\n",
    "from collections import Counter\n",
    "import numpy as np\n",
    "import pandas as pd\n",
    "warnings.filterwarnings( 'ignore' )\n",
    "\n",
    "co = Options()\n",
    "co.add_experimental_option('debuggerAddress', '127.0.0.1:9222')\n",
    " \n"
   ]
  },
  {
   "cell_type": "code",
   "execution_count": 18,
   "metadata": {},
   "outputs": [],
   "source": [
    "def get_dates():\n",
    "    temp=[]\n",
    "    thread_xpath = driver.find_element_by_xpath('//*[@id=\"container\"]/div[2]') \n",
    "    thread = thread_xpath.text \n",
    "    for x in thread.split(\"\\n\"):\n",
    "        #올해 게시물은 00/00 00:00 이라서 11, 나머지는 00/00/00 00:00 이라서 14\n",
    "        #가끔 오픈 채팅방 같은 링크 떄문에 그냥 / 만하면 날짜만 크롤링이 안된다.\n",
    "        if '/' in x and (len(x)==11 or len(x)==14):\n",
    "            temp.append(x)\n",
    "    return temp\n",
    "    "
   ]
  },
  {
   "cell_type": "code",
   "execution_count": 16,
   "metadata": {},
   "outputs": [],
   "source": [
    "URL = 'https://everytime.kr/search/all/%EC%A1%B1%EB%B3%B4'\n",
    "# URL = 'https://naver.com'\n",
    "driver = webdriver.Chrome(executable_path='chromedriver.exe',options=co)\n",
    "driver.get(url=URL)"
   ]
  },
  {
   "cell_type": "code",
   "execution_count": 17,
   "metadata": {},
   "outputs": [
    {
     "name": "stdout",
     "output_type": "stream",
     "text": [
      "page: 1,  dates: 18\n",
      "page: 2,  dates: 38\n",
      "page: 3,  dates: 58\n",
      "page: 4,  dates: 78\n",
      "page: 5,  dates: 98\n",
      "page: 6,  dates: 118\n",
      "page: 7,  dates: 138\n",
      "page: 8,  dates: 158\n",
      "page: 9,  dates: 178\n",
      "page: 10,  dates: 198\n",
      "page: 11,  dates: 218\n",
      "page: 12,  dates: 238\n",
      "page: 13,  dates: 258\n",
      "page: 14,  dates: 278\n",
      "page: 15,  dates: 298\n",
      "page: 16,  dates: 318\n",
      "page: 17,  dates: 338\n",
      "page: 18,  dates: 358\n",
      "page: 19,  dates: 378\n",
      "page: 20,  dates: 398\n",
      "page: 21,  dates: 418\n",
      "page: 22,  dates: 438\n",
      "page: 23,  dates: 458\n",
      "page: 24,  dates: 478\n",
      "page: 25,  dates: 498\n",
      "page: 26,  dates: 518\n",
      "page: 27,  dates: 538\n",
      "page: 28,  dates: 558\n",
      "page: 29,  dates: 578\n",
      "page: 30,  dates: 598\n",
      "page: 31,  dates: 618\n",
      "page: 32,  dates: 638\n",
      "page: 33,  dates: 658\n",
      "page: 34,  dates: 678\n",
      "page: 35,  dates: 698\n",
      "page: 36,  dates: 718\n",
      "page: 37,  dates: 738\n",
      "page: 38,  dates: 758\n",
      "page: 39,  dates: 778\n",
      "page: 40,  dates: 798\n",
      "page: 41,  dates: 818\n",
      "page: 42,  dates: 838\n",
      "page: 43,  dates: 858\n",
      "page: 44,  dates: 878\n",
      "page: 45,  dates: 898\n",
      "page: 46,  dates: 918\n",
      "page: 47,  dates: 938\n",
      "page: 48,  dates: 958\n",
      "page: 49,  dates: 978\n",
      "page: 50,  dates: 998\n",
      "page: 51,  dates: 1018\n",
      "page: 52,  dates: 1038\n",
      "page: 53,  dates: 1058\n",
      "page: 54,  dates: 1078\n",
      "page: 55,  dates: 1098\n",
      "page: 56,  dates: 1118\n",
      "page: 57,  dates: 1138\n",
      "page: 58,  dates: 1158\n",
      "page: 59,  dates: 1178\n",
      "page: 60,  dates: 1198\n",
      "page: 61,  dates: 1218\n",
      "page: 62,  dates: 1238\n",
      "page: 63,  dates: 1258\n",
      "page: 64,  dates: 1278\n",
      "page: 65,  dates: 1298\n",
      "page: 66,  dates: 1318\n",
      "page: 67,  dates: 1338\n",
      "page: 68,  dates: 1358\n",
      "page: 69,  dates: 1378\n",
      "page: 70,  dates: 1398\n",
      "page: 71,  dates: 1418\n",
      "page: 72,  dates: 1438\n",
      "page: 73,  dates: 1458\n",
      "page: 74,  dates: 1478\n",
      "page: 75,  dates: 1498\n",
      "page: 76,  dates: 1518\n",
      "page: 77,  dates: 1538\n",
      "page: 78,  dates: 1558\n",
      "page: 79,  dates: 1578\n",
      "page: 80,  dates: 1598\n",
      "page: 81,  dates: 1618\n",
      "page: 82,  dates: 1638\n",
      "page: 83,  dates: 1658\n",
      "page: 84,  dates: 1678\n",
      "page: 85,  dates: 1698\n",
      "page: 86,  dates: 1718\n",
      "page: 87,  dates: 1738\n",
      "page: 88,  dates: 1758\n",
      "page: 89,  dates: 1778\n",
      "page: 90,  dates: 1798\n",
      "page: 91,  dates: 1818\n",
      "page: 92,  dates: 1838\n",
      "page: 93,  dates: 1858\n",
      "page: 94,  dates: 1878\n",
      "page: 95,  dates: 1898\n",
      "page: 96,  dates: 1918\n",
      "page: 97,  dates: 1938\n",
      "page: 98,  dates: 1958\n",
      "page: 99,  dates: 1978\n",
      "page: 100,  dates: 1998\n",
      "page: 101,  dates: 2018\n",
      "page: 102,  dates: 2038\n",
      "page: 103,  dates: 2058\n",
      "page: 104,  dates: 2078\n",
      "page: 105,  dates: 2098\n",
      "page: 106,  dates: 2118\n",
      "page: 107,  dates: 2138\n",
      "page: 108,  dates: 2158\n",
      "page: 109,  dates: 2178\n",
      "page: 110,  dates: 2198\n",
      "page: 111,  dates: 2218\n",
      "page: 112,  dates: 2238\n",
      "page: 113,  dates: 2258\n",
      "page: 114,  dates: 2278\n",
      "page: 115,  dates: 2298\n",
      "page: 116,  dates: 2318\n",
      "page: 117,  dates: 2338\n",
      "page: 118,  dates: 2358\n",
      "page: 119,  dates: 2378\n",
      "page: 120,  dates: 2398\n",
      "page: 121,  dates: 2418\n",
      "page: 122,  dates: 2438\n",
      "page: 123,  dates: 2458\n",
      "page: 124,  dates: 2478\n",
      "page: 125,  dates: 2498\n",
      "page: 126,  dates: 2518\n",
      "page: 127,  dates: 2538\n",
      "page: 128,  dates: 2558\n",
      "page: 129,  dates: 2578\n",
      "page: 130,  dates: 2598\n",
      "['17/03/07 11:19', '17/03/01 23:23', '17/02/17 07:43', '16/11/26 18:51', '16/11/16 20:24', '16/10/15 00:06', '16/10/12 21:31', '16/10/08 01:49', '16/10/05 16:55', '16/07/21 23:56', '16/06/10 15:46', '16/04/14 09:33', '15/04/14 00:07', '15/04/12 21:06', '15/04/12 14:31']\n",
      "page: 131,  dates: 2613\n",
      "[]\n",
      "page: 132,  dates: 2613\n"
     ]
    }
   ],
   "source": [
    "#first 첫 페이지\n",
    "dates=[]\n",
    "dates+=get_dates()\n",
    "cnt=1\n",
    "print(\"page: {},  dates: {}\".format(cnt,len(dates)))\n",
    "\n",
    "# first next\n",
    "#처음에는 다음 버튼 밖에 없기 떄문에\n",
    "\n",
    "click_xpath=driver.find_element_by_xpath('//*[@id=\"container\"]/div[2]/div[2]/a') \n",
    "click_xpath.click()\n",
    "time.sleep(3)\n",
    "dates+=get_dates()\n",
    "cnt+=1\n",
    "print(\"page: {},  dates: {}\".format(cnt,len(dates)))\n",
    "#second next\n",
    "#두번째에는 이전, 다음 버튼이 있어서 a[2]\n",
    "\n",
    "click_xpath=driver.find_element_by_xpath('//*[@id=\"container\"]/div[2]/div[2]/a[2]')\n",
    "click_xpath.click() \n",
    "time.sleep(3)\n",
    "dates+=get_dates()\n",
    "cnt+=1\n",
    "print(\"page: {},  dates: {}\".format(cnt,len(dates)))\n",
    "#next\n",
    "#세번째 이후로는 처음,이전, 다음 버튼이 있어서 a[3]\n",
    "while(1):\n",
    "    try:\n",
    "        \n",
    "        click_xpath=driver.find_element_by_xpath('//*[@id=\"container\"]/div[2]/div[2]/a[3]')\n",
    "        click_xpath.click() \n",
    "        time.sleep(3)\n",
    "        temp=get_dates()\n",
    "        if len(temp)!=20:\n",
    "            print(temp)\n",
    "        dates+=temp\n",
    "        cnt+=1\n",
    "        print(\"page: {},  dates: {}\".format(cnt,len(dates)))\n",
    "    except:\n",
    "        break\n"
   ]
  },
  {
   "cell_type": "code",
   "execution_count": 19,
   "metadata": {},
   "outputs": [],
   "source": [
    "months_2022=[x[:2] for x in dates if len(x)==11]\n",
    "months_2021=[x[3:5] for x in dates if x[:2]=='21']\n",
    "months_2020=[x[3:5] for x in dates if x[:2]=='20']\n",
    "months_2019=[x[3:5] for x in dates if x[:2]=='19']\n",
    "months_2018=[x[3:5] for x in dates if x[:2]=='18']\n",
    "months_2017=[x[3:5] for x in dates if x[:2]=='17']"
   ]
  },
  {
   "cell_type": "code",
   "execution_count": 53,
   "metadata": {},
   "outputs": [],
   "source": [
    "count_months_2022=Counter(months_2022)\n",
    "count_months_2021=Counter(months_2021)\n",
    "count_months_2020=Counter(months_2020)\n",
    "count_months_2019=Counter(months_2019)\n",
    "count_months_2018=Counter(months_2018)\n",
    "count_months_2017=Counter(months_2017)\n"
   ]
  },
  {
   "cell_type": "code",
   "execution_count": 130,
   "metadata": {},
   "outputs": [
    {
     "data": {
      "image/png": "[encoded data removed]",
      "text/plain": [
       "<Figure size 432x288 with 1 Axes>"
      ]
     },
     "metadata": {
      "needs_background": "light"
     },
     "output_type": "display_data"
    }
   ],
   "source": [
    "plt.bar([2017,2018,2019,2020,2021],[len(months_2017),len(months_2018),len(months_2019),len(months_2020),len(months_2021)])\n",
    "plt.xlabel('year')\n",
    "plt.ylabel('times')\n",
    "plt.title('Jokboes Per Year')\n",
    "plt.savefig('Jokboes Per Year.png',facecolor='#eeeeee')\n",
    "plt.show()\n"
   ]
  },
  {
   "cell_type": "code",
   "execution_count": 131,
   "metadata": {},
   "outputs": [
    {
     "data": {
      "image/png": "[encoded data removed]",
      "text/plain": [
       "<Figure size 432x288 with 1 Axes>"
      ]
     },
     "metadata": {
      "needs_background": "light"
     },
     "output_type": "display_data"
    }
   ],
   "source": [
    "\n",
    "plt.bar(list(reversed(count_months_2021.keys())),list(reversed(count_months_2021.values())))\n",
    "plt.xlabel('month')\n",
    "plt.ylabel('times')\n",
    "plt.title('Jokboes Per Month in 2021')\n",
    "plt.savefig('Jokboes Per Month in 2021',facecolor='#eeeeee')\n",
    "plt.show()"
   ]
  },
  {
   "cell_type": "code",
   "execution_count": 132,
   "metadata": {},
   "outputs": [
    {
     "data": {
      "image/png": "[encoded data removed]",
      "text/plain": [
       "<Figure size 432x288 with 1 Axes>"
      ]
     },
     "metadata": {
      "needs_background": "light"
     },
     "output_type": "display_data"
    }
   ],
   "source": [
    "\n",
    "plt.bar(list(reversed(count_months_2020.keys())),list(reversed(count_months_2020.values())))\n",
    "plt.xlabel('month')\n",
    "plt.ylabel('times')\n",
    "plt.title('Jokboes Per Month in 2020')\n",
    "plt.savefig('Jokboes Per Month in 2020',facecolor='#eeeeee')\n",
    "plt.show()"
   ]
  },
  {
   "cell_type": "code",
   "execution_count": 133,
   "metadata": {},
   "outputs": [
    {
     "data": {
      "image/png": "[encoded data removed]",
      "text/plain": [
       "<Figure size 432x288 with 1 Axes>"
      ]
     },
     "metadata": {
      "needs_background": "light"
     },
     "output_type": "display_data"
    }
   ],
   "source": [
    "\n",
    "plt.bar(list(reversed(count_months_2019.keys())),list(reversed(count_months_2019.values())))\n",
    "plt.xlabel('month')\n",
    "plt.ylabel('times')\n",
    "plt.title('Jokboes Per Month in 2019')\n",
    "plt.savefig('Jokboes Per Month in 2019',facecolor='#eeeeee')\n",
    "plt.show()"
   ]
  },
  {
   "cell_type": "code",
   "execution_count": 134,
   "metadata": {},
   "outputs": [
    {
     "data": {
      "image/png": "[encoded data removed]",
      "text/plain": [
       "<Figure size 432x288 with 1 Axes>"
      ]
     },
     "metadata": {
      "needs_background": "light"
     },
     "output_type": "display_data"
    }
   ],
   "source": [
    "\n",
    "plt.bar(list(reversed(count_months_2018.keys())),list(reversed(count_months_2018.values())))\n",
    "plt.xlabel('month')\n",
    "plt.ylabel('times')\n",
    "plt.title('Jokboes Per Month in 2018')\n",
    "plt.savefig('Jokboes Per Month in 2018',facecolor='#eeeeee')\n",
    "plt.show()"
   ]
  },
  {
   "cell_type": "code",
   "execution_count": 135,
   "metadata": {},
   "outputs": [
    {
     "data": {
      "image/png": "[encoded data removed]",
      "text/plain": [
       "<Figure size 432x288 with 1 Axes>"
      ]
     },
     "metadata": {
      "needs_background": "light"
     },
     "output_type": "display_data"
    }
   ],
   "source": [
    "\n",
    "plt.bar(list(reversed(count_months_2017.keys())),list(reversed(count_months_2017.values())))\n",
    "plt.xlabel('month')\n",
    "plt.ylabel('times')\n",
    "plt.title('Jokboes Per Month in 2017')\n",
    "plt.savefig('Jokboes Per Month in 2017',facecolor='#eeeeee')\n",
    "plt.show()"
   ]
  },
  {
   "cell_type": "code",
   "execution_count": 136,
   "metadata": {},
   "outputs": [
    {
     "data": {
      "image/png": "[encoded data removed]",
      "text/plain": [
       "<Figure size 432x288 with 1 Axes>"
      ]
     },
     "metadata": {
      "needs_background": "light"
     },
     "output_type": "display_data"
    }
   ],
   "source": [
    "count_months_2022=Counter(months_2022)\n",
    "plt.bar(list(reversed(count_months_2022.keys())),list(reversed(count_months_2022.values())))\n",
    "plt.xlabel('month')\n",
    "plt.ylabel('times')\n",
    "plt.title('Jokboes Per Month in 2022')\n",
    "plt.savefig('Jokboes Per Month in 2022',facecolor='#eeeeee')\n",
    "plt.show()"
   ]
  },
  {
   "cell_type": "code",
   "execution_count": 124,
   "metadata": {},
   "outputs": [],
   "source": [
    "dataframe=pd.concat([pd.DataFrame(dict(count_months_2022),index = [2022]),\n",
    "pd.DataFrame(dict(count_months_2021),index = [2021]),\n",
    "pd.DataFrame(dict(count_months_2020),index = [2020]),\n",
    "pd.DataFrame(dict(count_months_2019),index = [2019]),\n",
    "pd.DataFrame(dict(count_months_2018),index = [2018]),\n",
    "pd.DataFrame(dict(count_months_2017),index = [2017])])\n"
   ]
  },
  {
   "cell_type": "code",
   "execution_count": 125,
   "metadata": {},
   "outputs": [
    {
     "data": {
      "text/html": [
       "<div>\n",
       "<style scoped>\n",
       "    .dataframe tbody tr th:only-of-type {\n",
       "        vertical-align: middle;\n",
       "    }\n",
       "\n",
       "    .dataframe tbody tr th {\n",
       "        vertical-align: top;\n",
       "    }\n",
       "\n",
       "    .dataframe thead th {\n",
       "        text-align: right;\n",
       "    }\n",
       "</style>\n",
       "<table border=\"1\" class=\"dataframe\">\n",
       "  <thead>\n",
       "    <tr style=\"text-align: right;\">\n",
       "      <th></th>\n",
       "      <th>2022</th>\n",
       "      <th>2021</th>\n",
       "      <th>2020</th>\n",
       "      <th>2019</th>\n",
       "      <th>2018</th>\n",
       "      <th>2017</th>\n",
       "    </tr>\n",
       "  </thead>\n",
       "  <tbody>\n",
       "    <tr>\n",
       "      <th>01</th>\n",
       "      <td>19.0</td>\n",
       "      <td>18.0</td>\n",
       "      <td>18.0</td>\n",
       "      <td>5.0</td>\n",
       "      <td>4.0</td>\n",
       "      <td>0.0</td>\n",
       "    </tr>\n",
       "    <tr>\n",
       "      <th>02</th>\n",
       "      <td>28.0</td>\n",
       "      <td>14.0</td>\n",
       "      <td>15.0</td>\n",
       "      <td>4.0</td>\n",
       "      <td>6.0</td>\n",
       "      <td>1.0</td>\n",
       "    </tr>\n",
       "    <tr>\n",
       "      <th>03</th>\n",
       "      <td>115.0</td>\n",
       "      <td>43.0</td>\n",
       "      <td>44.0</td>\n",
       "      <td>32.0</td>\n",
       "      <td>8.0</td>\n",
       "      <td>6.0</td>\n",
       "    </tr>\n",
       "    <tr>\n",
       "      <th>04</th>\n",
       "      <td>446.0</td>\n",
       "      <td>192.0</td>\n",
       "      <td>51.0</td>\n",
       "      <td>124.0</td>\n",
       "      <td>62.0</td>\n",
       "      <td>30.0</td>\n",
       "    </tr>\n",
       "  </tbody>\n",
       "</table>\n",
       "</div>"
      ],
      "text/plain": [
       "     2022   2021  2020   2019  2018  2017\n",
       "01   19.0   18.0  18.0    5.0   4.0   0.0\n",
       "02   28.0   14.0  15.0    4.0   6.0   1.0\n",
       "03  115.0   43.0  44.0   32.0   8.0   6.0\n",
       "04  446.0  192.0  51.0  124.0  62.0  30.0"
      ]
     },
     "execution_count": 125,
     "metadata": {},
     "output_type": "execute_result"
    }
   ],
   "source": [
    "dataframe=dataframe.drop(['12','11','10','09','08','07','06','05'],axis='columns').fillna(0)\n",
    "dataframe=dataframe.T.sort_index()\n",
    "dataframe\n",
    "# dataframe=dataframe.reset_index().drop('index',axis='columns')\n",
    "# dataframe\n"
   ]
  },
  {
   "cell_type": "code",
   "execution_count": 137,
   "metadata": {},
   "outputs": [
    {
     "data": {
      "image/png": "[encoded data removed]",
      "text/plain": [
       "<Figure size 1440x432 with 1 Axes>"
      ]
     },
     "metadata": {
      "needs_background": "light"
     },
     "output_type": "display_data"
    }
   ],
   "source": [
    "import numpy as np\n",
    "fig, ax = plt.subplots(figsize=(20,6))\n",
    "bar_width = 0.14\n",
    "month = ['01','02', '03', '04']\n",
    "\n",
    "index = np.arange(4)\n",
    "\n",
    "# 각 월별로 6개의 bar를 순서대로 나타내는 과정, 각 그래프는 0.25의 간격을 두고 그려짐\n",
    "b1 = plt.bar(index, dataframe[2017], bar_width, alpha=0.4, color='red', label='2017')\n",
    "\n",
    "b2 = plt.bar(index + bar_width, dataframe[2018], bar_width, alpha=0.4, color='orangered', label='2018')\n",
    "\n",
    "b3 = plt.bar(index + 2 * bar_width, dataframe[2019], bar_width, alpha=0.4, color='yellow', label='2019')\n",
    "\n",
    "b4 = plt.bar(index + 3 * bar_width, dataframe[2020], bar_width, alpha=0.4, color='green', label='2020')\n",
    "\n",
    "b5 = plt.bar(index + 4 * bar_width, dataframe[2021], bar_width, alpha=0.4, color='blue', label='2021')\n",
    "\n",
    "b6 = plt.bar(index + 5 * bar_width, dataframe[2022], bar_width, alpha=0.4, color='purple', label='2022')\n",
    "\n",
    "# # x축 위치를 정 가운데로 조정하고 x축의 텍스트를 year 정보와 매칭\n",
    "plt.xticks(np.arange(bar_width, 4 + bar_width, 1), month)\n",
    "\n",
    "# x축, y축 이름 및 범례 설정\n",
    "plt.xlabel('month', size = 13)\n",
    "plt.ylabel('times', size = 13)\n",
    "plt.title('Jokboes per 1 Hakgis')\n",
    "plt.savefig('Jokboes per 1 Hakgis',facecolor='#eeeeee')\n",
    "plt.legend()\n",
    "plt.show()"
   ]
  },
  {
   "cell_type": "code",
   "execution_count": null,
   "metadata": {},
   "outputs": [],
   "source": []
  }
 ],
 "metadata": {
  "interpreter": {
   "hash": "b349d7aa4cd44eb16a3405fb8781d3f70eee2bf8f6dc1063fe563e657c1babe2"
  },
  "kernelspec": {
   "display_name": "Python 3.8.10 ('a')",
   "language": "python",
   "name": "python3"
  },
  "language_info": {
   "codemirror_mode": {
    "name": "ipython",
    "version": 3
   },
   "file_extension": ".py",
   "mimetype": "text/x-python",
   "name": "python",
   "nbconvert_exporter": "python",
   "pygments_lexer": "ipython3",
   "version": "3.8.8"
  },
  "orig_nbformat": 4
 },
 "nbformat": 4,
 "nbformat_minor": 2
}
